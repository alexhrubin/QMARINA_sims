{
 "cells": [
  {
   "cell_type": "code",
   "execution_count": 2,
   "metadata": {},
   "outputs": [],
   "source": [
    "from jaqalpaq.qsyntax import circuit\n",
    "from jaqalpaq.run import run_jaqal_string, run_jaqal_circuit\n",
    "from jaqalpaq.qsyntax.qsyntax import Q as Q_obj\n",
    "from numpy import pi\n",
    "import numpy as np\n",
    "from tavis_cummings import Cavity, plot_populations\n",
    "from plotly import graph_objects as go"
   ]
  },
  {
   "cell_type": "code",
   "execution_count": 3,
   "metadata": {},
   "outputs": [],
   "source": [
    "def cs(N: int, g: float, kappa: float, initial_populations, t: float) -> float:\n",
    "    D = np.emath.sqrt(-16 * N * g**2 + kappa**2)\n",
    "    m = 1 - np.exp(-kappa * t / 4) * ((kappa / D) * np.sinh(D * t / 4) + np.cosh(D * t / 4))\n",
    "    return initial_populations - m * initial_populations.sum() / N\n",
    "\n",
    "def thetas(N: int, g: float, kappa: float, initial_populations, t: float) -> list[float]:\n",
    "    c = cs(N, g, kappa, initial_populations, t)\n",
    "    theta_1 = np.arccos(c[0])\n",
    "\n",
    "    theta = []\n",
    "    for i in range(1, N):\n",
    "        denom = np.sin(theta_1) * np.prod(np.cos(theta))\n",
    "        theta.append(np.arcsin(c[i] / denom))\n",
    "    \n",
    "    return np.real([theta_1] + theta)"
   ]
  },
  {
   "cell_type": "code",
   "execution_count": 4,
   "metadata": {},
   "outputs": [],
   "source": [
    "def CNOT(Q: Q_obj, control, target):\n",
    "    \"\"\"Implementation of CNOT using native MS gate.\"\"\"\n",
    "    Q.Sy(control)\n",
    "    Q.Sxx(control, target)\n",
    "    with Q.parallel():\n",
    "        Q.Sxd(control)\n",
    "        Q.Sxd(target)\n",
    "    Q.Syd(control)\n",
    "\n",
    "\n",
    "def CRy(Q: Q_obj, control, target, angle: float):\n",
    "    \"\"\"Controlled Y rotation.\"\"\"\n",
    "    Q.Ry(target, -angle / 2)\n",
    "    CNOT(Q, control, target)\n",
    "    Q.Ry(target, -angle / 2)\n",
    "    CNOT(Q, control, target)\n",
    "    Q.Ry(target, angle)\n",
    "\n",
    "\n",
    "@circuit\n",
    "def qmarina(Q: Q_obj, thetas: list[float]):\n",
    "    \"\"\"Main QMARINA algorithm. See arxiv:2208.12029\"\"\"\n",
    "    Q.usepulses(\"qscout.v1.std\")\n",
    "    num_qubits = len(thetas) + 1  # one rotation angle for each emitter qubit + 1 for the cavity/env\n",
    "    q = Q.register(num_qubits, name=\"q\")\n",
    "\n",
    "    with Q.subcircuit():\n",
    "        Q.Px(q[1])  # excite first emitter qubit\n",
    "\n",
    "        # first emitter is handled oppositely from the others\n",
    "        CRy(Q, q[1], q[0], 2* thetas[0])  # rotate environment with 1st emitter as control\n",
    "        CNOT(Q, q[0], q[1])  # CNOT on 1st emitter with environment as control\n",
    "\n",
    "        for i, theta in enumerate(thetas[1:], start=2):\n",
    "            CRy(Q, q[0], q[i], 2 * theta)  # rotate ith emitter with environment as control\n",
    "            CNOT(Q, q[1], q[0])  # CNOT on environment with ith emitter as control\n"
   ]
  },
  {
   "cell_type": "code",
   "execution_count": 5,
   "metadata": {},
   "outputs": [
    {
     "ename": "KeyError",
     "evalue": "'Px'",
     "output_type": "error",
     "traceback": [
      "\u001b[0;31m---------------------------------------------------------------------------\u001b[0m",
      "\u001b[0;31mKeyError\u001b[0m                                  Traceback (most recent call last)",
      "\u001b[1;32m/Users/alexrubin/code/Tavis-Cummings-simulations/jaqal_qmarina.ipynb Cell 4\u001b[0m line \u001b[0;36m2\n\u001b[1;32m     <a href='vscode-notebook-cell:/Users/alexrubin/code/Tavis-Cummings-simulations/jaqal_qmarina.ipynb#W3sZmlsZQ%3D%3D?line=20'>21</a>\u001b[0m theta \u001b[39m=\u001b[39m thetas(N, g, kappa, initial_populations, t)\n\u001b[1;32m     <a href='vscode-notebook-cell:/Users/alexrubin/code/Tavis-Cummings-simulations/jaqal_qmarina.ipynb#W3sZmlsZQ%3D%3D?line=21'>22</a>\u001b[0m jaqal_circ \u001b[39m=\u001b[39m qmarina(thetas\u001b[39m=\u001b[39mtheta)\n\u001b[0;32m---> <a href='vscode-notebook-cell:/Users/alexrubin/code/Tavis-Cummings-simulations/jaqal_qmarina.ipynb#W3sZmlsZQ%3D%3D?line=22'>23</a>\u001b[0m result \u001b[39m=\u001b[39m run_jaqal_circuit(jaqal_circ)\n\u001b[1;32m     <a href='vscode-notebook-cell:/Users/alexrubin/code/Tavis-Cummings-simulations/jaqal_qmarina.ipynb#W3sZmlsZQ%3D%3D?line=23'>24</a>\u001b[0m probailities \u001b[39m=\u001b[39m result\u001b[39m.\u001b[39msubcircuits[\u001b[39m0\u001b[39m]\u001b[39m.\u001b[39mprobability_by_str\n\u001b[1;32m     <a href='vscode-notebook-cell:/Users/alexrubin/code/Tavis-Cummings-simulations/jaqal_qmarina.ipynb#W3sZmlsZQ%3D%3D?line=24'>25</a>\u001b[0m populations[\u001b[39m'\u001b[39m\u001b[39memitter_0\u001b[39m\u001b[39m'\u001b[39m]\u001b[39m.\u001b[39mappend(probailities[\u001b[39m'\u001b[39m\u001b[39m110\u001b[39m\u001b[39m'\u001b[39m])\n",
      "File \u001b[0;32m~/code/Tavis-Cummings-simulations/.venv/lib/python3.10/site-packages/jaqalpaq/run/frontend.py:89\u001b[0m, in \u001b[0;36mrun_jaqal_circuit\u001b[0;34m(circuit, backend, force_sim, emulator_backend, **kwargs)\u001b[0m\n\u001b[1;32m     86\u001b[0m \u001b[39mif\u001b[39;00m (force_sim \u001b[39mis\u001b[39;00m \u001b[39mnot\u001b[39;00m \u001b[39mFalse\u001b[39;00m) \u001b[39mor\u001b[39;00m (emulator_backend \u001b[39mis\u001b[39;00m \u001b[39mnot\u001b[39;00m \u001b[39mNone\u001b[39;00m):\n\u001b[1;32m     87\u001b[0m     \u001b[39mraise\u001b[39;00m JaqalError(\u001b[39m\"\u001b[39m\u001b[39mSpecify backend, DEFAULT_BACKEND, or FORCE_BACKEND\u001b[39m\u001b[39m\"\u001b[39m)\n\u001b[0;32m---> 89\u001b[0m \u001b[39mreturn\u001b[39;00m _get_backend(backend)(circuit, \u001b[39m*\u001b[39;49m\u001b[39m*\u001b[39;49mkwargs)\u001b[39m.\u001b[39;49mexecute()\n",
      "File \u001b[0;32m~/code/Tavis-Cummings-simulations/.venv/lib/python3.10/site-packages/jaqalpaq/run/backend.py:25\u001b[0m, in \u001b[0;36mJaqalJob.execute\u001b[0;34m(self)\u001b[0m\n\u001b[1;32m     23\u001b[0m \u001b[39mdef\u001b[39;00m \u001b[39mexecute\u001b[39m(\u001b[39mself\u001b[39m):\n\u001b[1;32m     24\u001b[0m \u001b[39m    \u001b[39m\u001b[39m\"\"\"Executes the job on the backend\"\"\"\u001b[39;00m\n\u001b[0;32m---> 25\u001b[0m     \u001b[39mreturn\u001b[39;00m \u001b[39mself\u001b[39;49m\u001b[39m.\u001b[39;49mbackend\u001b[39m.\u001b[39;49m_execute_job(\u001b[39mself\u001b[39;49m)\n",
      "File \u001b[0;32m~/code/Tavis-Cummings-simulations/.venv/lib/python3.10/site-packages/jaqalpaq/emulator/backend.py:137\u001b[0m, in \u001b[0;36mEmulatedIndependentSubcircuitsBackend._execute_job\u001b[0;34m(self, job)\u001b[0m\n\u001b[1;32m    135\u001b[0m \u001b[39mfor\u001b[39;00m sb \u001b[39min\u001b[39;00m exe_res\u001b[39m.\u001b[39mby_subbatch:\n\u001b[1;32m    136\u001b[0m     \u001b[39mfor\u001b[39;00m sc \u001b[39min\u001b[39;00m sb\u001b[39m.\u001b[39mby_subcircuit:\n\u001b[0;32m--> 137\u001b[0m         \u001b[39mself\u001b[39;49m\u001b[39m.\u001b[39;49msimulate_subcircuit(job, sc\u001b[39m.\u001b[39;49m_subcircuit)\n\u001b[1;32m    139\u001b[0m parser \u001b[39m=\u001b[39m exe_res\u001b[39m.\u001b[39maccept_readouts()\n\u001b[1;32m    141\u001b[0m job\u001b[39m.\u001b[39mmeas_count \u001b[39m=\u001b[39m \u001b[39m0\u001b[39m\n",
      "File \u001b[0;32m~/code/Tavis-Cummings-simulations/.venv/lib/python3.10/site-packages/jaqalpaq/emulator/backend.py:106\u001b[0m, in \u001b[0;36mEmulatedIndependentSubcircuitsBackend.simulate_subcircuit\u001b[0;34m(self, job, subcircuit)\u001b[0m\n\u001b[1;32m    105\u001b[0m \u001b[39mdef\u001b[39;00m \u001b[39msimulate_subcircuit\u001b[39m(\u001b[39mself\u001b[39m, job, subcircuit):\n\u001b[0;32m--> 106\u001b[0m     \u001b[39mself\u001b[39;49m\u001b[39m.\u001b[39;49m_simulate_subcircuit(job, subcircuit)\n\u001b[1;32m    107\u001b[0m     subcircuit\u001b[39m.\u001b[39msimulated \u001b[39m=\u001b[39m \u001b[39mTrue\u001b[39;00m\n\u001b[1;32m    108\u001b[0m     subcircuit\u001b[39m.\u001b[39mtree\u001b[39m.\u001b[39msimulated_probability \u001b[39m=\u001b[39m \u001b[39m1\u001b[39m\n",
      "File \u001b[0;32m~/code/Tavis-Cummings-simulations/.venv/lib/python3.10/site-packages/jaqalpaq/emulator/unitary.py:155\u001b[0m, in \u001b[0;36mUnitarySerializedEmulator._simulate_subcircuit\u001b[0;34m(self, job, subcirc)\u001b[0m\n\u001b[1;32m    152\u001b[0m     \u001b[39melse\u001b[39;00m:\n\u001b[1;32m    153\u001b[0m         \u001b[39mraise\u001b[39;00m \u001b[39mNotImplementedError\u001b[39;00m()\n\u001b[0;32m--> 155\u001b[0m handle_unitary(cursor, vec, subcirc\u001b[39m.\u001b[39;49mtree)\n",
      "File \u001b[0;32m~/code/Tavis-Cummings-simulations/.venv/lib/python3.10/site-packages/jaqalpaq/emulator/unitary.py:134\u001b[0m, in \u001b[0;36mUnitarySerializedEmulator._simulate_subcircuit.<locals>.handle_unitary\u001b[0;34m(cursor, vec, node)\u001b[0m\n\u001b[1;32m    132\u001b[0m \u001b[39m# This capture the quantum arguments to the gate --- the qubit index\u001b[39;00m\n\u001b[1;32m    133\u001b[0m qind \u001b[39m=\u001b[39m []\n\u001b[0;32m--> 134\u001b[0m gatedef \u001b[39m=\u001b[39m gatedefs[gate\u001b[39m.\u001b[39;49mname]\n\u001b[1;32m    135\u001b[0m ideal_unitary \u001b[39m=\u001b[39m get_ideal_action(gatedef)\n\u001b[1;32m    136\u001b[0m \u001b[39mif\u001b[39;00m ideal_unitary \u001b[39mis\u001b[39;00m \u001b[39mNone\u001b[39;00m:\n",
      "\u001b[0;31mKeyError\u001b[0m: 'Px'"
     ]
    }
   ],
   "source": [
    "initial_populations = np.array([1, 0])  # populations of emitters in initial state\n",
    "times = np.linspace(0.01, 5, 100)  # Jaqal doesn't like time=0 for some reason...\n",
    "populations = {'emitter_0': [], 'emitter_1': [], 'cavity/env': []}  # for collecting the 0\n",
    "\n",
    "N = 2  # number of emitters\n",
    "g = 4  # coupling\n",
    "kappa = 2  # cavity loss\n",
    "\n",
    "# model for the QuTiP simulation\n",
    "cavity = Cavity(\n",
    "    num_emitters=N,\n",
    "    num_photons=3,\n",
    "    cavity_freq=5e3,\n",
    "    emitter_freq=[5e3, 5e3],\n",
    "    kappa=kappa,\n",
    "    g=g,\n",
    "    gamma=0,\n",
    ")\n",
    "\n",
    "for t in times:\n",
    "    theta = thetas(N, g, kappa, initial_populations, t)\n",
    "    jaqal_circ = qmarina(thetas=theta)\n",
    "    result = run_jaqal_circuit(jaqal_circ)\n",
    "    probailities = result.subcircuits[0].probability_by_str\n",
    "    populations['emitter_0'].append(probailities['110'])\n",
    "    populations['emitter_1'].append(probailities['101'])\n",
    "    populations['cavity/env'].append(probailities['100'])\n",
    "\n",
    "\n",
    "initial_state = cavity.emitter_state(excited_emitter_index=0)\n",
    "result = cavity.mesolve(initial_state, times)\n",
    "fig = plot_populations(result)\n",
    "\n",
    "# The qutip sim doesn't include the environment state with the cavity state\n",
    "# Let's rescale the cavity state to include the environment\n",
    "fig.data[0].y = 1 - fig.data[1].y - fig.data[2].y\n",
    "\n",
    "for key, arr in populations.items():\n",
    "    fig.add_trace(go.Scatter(x=times, y=arr, name=key, mode=\"markers\"))\n",
    "\n",
    "fig.show()"
   ]
  },
  {
   "cell_type": "code",
   "execution_count": null,
   "metadata": {},
   "outputs": [],
   "source": []
  }
 ],
 "metadata": {
  "kernelspec": {
   "display_name": ".venv",
   "language": "python",
   "name": "python3"
  },
  "language_info": {
   "codemirror_mode": {
    "name": "ipython",
    "version": 3
   },
   "file_extension": ".py",
   "mimetype": "text/x-python",
   "name": "python",
   "nbconvert_exporter": "python",
   "pygments_lexer": "ipython3",
   "version": "3.10.6"
  },
  "orig_nbformat": 4
 },
 "nbformat": 4,
 "nbformat_minor": 2
}
