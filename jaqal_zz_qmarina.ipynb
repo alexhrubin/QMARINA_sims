{
 "cells": [
  {
   "cell_type": "code",
   "execution_count": 1,
   "metadata": {},
   "outputs": [],
   "source": [
    "from jaqalpaq.qsyntax import circuit\n",
    "from jaqalpaq.run import run_jaqal_string, run_jaqal_circuit\n",
    "from jaqalpaq.qsyntax.qsyntax import Q as Q_obj\n",
    "from numpy import pi\n",
    "import numpy as np\n",
    "# from tavis_cummings import Cavity, plot_populations\n",
    "from plotly import graph_objects as go"
   ]
  },
  {
   "cell_type": "code",
   "execution_count": 2,
   "metadata": {},
   "outputs": [
    {
     "ename": "KeyError",
     "evalue": "'MS'",
     "output_type": "error",
     "traceback": [
      "\u001b[0;31m---------------------------------------------------------------------------\u001b[0m",
      "\u001b[0;31mKeyError\u001b[0m                                  Traceback (most recent call last)",
      "\u001b[1;32m/Users/alexrubin/code/Tavis-Cummings-simulations/qmarina/jaqal_zz_qmarina.ipynb Cell 2\u001b[0m line \u001b[0;36m1\n\u001b[1;32m      <a href='vscode-notebook-cell:/Users/alexrubin/code/Tavis-Cummings-simulations/qmarina/jaqal_zz_qmarina.ipynb#W1sZmlsZQ%3D%3D?line=6'>7</a>\u001b[0m         Q\u001b[39m.\u001b[39mMS(q[\u001b[39m1\u001b[39m])\n\u001b[1;32m      <a href='vscode-notebook-cell:/Users/alexrubin/code/Tavis-Cummings-simulations/qmarina/jaqal_zz_qmarina.ipynb#W1sZmlsZQ%3D%3D?line=8'>9</a>\u001b[0m jaqal_circ \u001b[39m=\u001b[39m qmarina()\n\u001b[0;32m---> <a href='vscode-notebook-cell:/Users/alexrubin/code/Tavis-Cummings-simulations/qmarina/jaqal_zz_qmarina.ipynb#W1sZmlsZQ%3D%3D?line=9'>10</a>\u001b[0m result \u001b[39m=\u001b[39m run_jaqal_circuit(jaqal_circ)\n",
      "File \u001b[0;32m~/code/Tavis-Cummings-simulations/.venv/lib/python3.10/site-packages/jaqalpaq/run/frontend.py:89\u001b[0m, in \u001b[0;36mrun_jaqal_circuit\u001b[0;34m(circuit, backend, force_sim, emulator_backend, **kwargs)\u001b[0m\n\u001b[1;32m     86\u001b[0m \u001b[39mif\u001b[39;00m (force_sim \u001b[39mis\u001b[39;00m \u001b[39mnot\u001b[39;00m \u001b[39mFalse\u001b[39;00m) \u001b[39mor\u001b[39;00m (emulator_backend \u001b[39mis\u001b[39;00m \u001b[39mnot\u001b[39;00m \u001b[39mNone\u001b[39;00m):\n\u001b[1;32m     87\u001b[0m     \u001b[39mraise\u001b[39;00m JaqalError(\u001b[39m\"\u001b[39m\u001b[39mSpecify backend, DEFAULT_BACKEND, or FORCE_BACKEND\u001b[39m\u001b[39m\"\u001b[39m)\n\u001b[0;32m---> 89\u001b[0m \u001b[39mreturn\u001b[39;00m _get_backend(backend)(circuit, \u001b[39m*\u001b[39;49m\u001b[39m*\u001b[39;49mkwargs)\u001b[39m.\u001b[39;49mexecute()\n",
      "File \u001b[0;32m~/code/Tavis-Cummings-simulations/.venv/lib/python3.10/site-packages/jaqalpaq/run/backend.py:25\u001b[0m, in \u001b[0;36mJaqalJob.execute\u001b[0;34m(self)\u001b[0m\n\u001b[1;32m     23\u001b[0m \u001b[39mdef\u001b[39;00m \u001b[39mexecute\u001b[39m(\u001b[39mself\u001b[39m):\n\u001b[1;32m     24\u001b[0m \u001b[39m    \u001b[39m\u001b[39m\"\"\"Executes the job on the backend\"\"\"\u001b[39;00m\n\u001b[0;32m---> 25\u001b[0m     \u001b[39mreturn\u001b[39;00m \u001b[39mself\u001b[39;49m\u001b[39m.\u001b[39;49mbackend\u001b[39m.\u001b[39;49m_execute_job(\u001b[39mself\u001b[39;49m)\n",
      "File \u001b[0;32m~/code/Tavis-Cummings-simulations/.venv/lib/python3.10/site-packages/jaqalpaq/emulator/backend.py:137\u001b[0m, in \u001b[0;36mEmulatedIndependentSubcircuitsBackend._execute_job\u001b[0;34m(self, job)\u001b[0m\n\u001b[1;32m    135\u001b[0m \u001b[39mfor\u001b[39;00m sb \u001b[39min\u001b[39;00m exe_res\u001b[39m.\u001b[39mby_subbatch:\n\u001b[1;32m    136\u001b[0m     \u001b[39mfor\u001b[39;00m sc \u001b[39min\u001b[39;00m sb\u001b[39m.\u001b[39mby_subcircuit:\n\u001b[0;32m--> 137\u001b[0m         \u001b[39mself\u001b[39;49m\u001b[39m.\u001b[39;49msimulate_subcircuit(job, sc\u001b[39m.\u001b[39;49m_subcircuit)\n\u001b[1;32m    139\u001b[0m parser \u001b[39m=\u001b[39m exe_res\u001b[39m.\u001b[39maccept_readouts()\n\u001b[1;32m    141\u001b[0m job\u001b[39m.\u001b[39mmeas_count \u001b[39m=\u001b[39m \u001b[39m0\u001b[39m\n",
      "File \u001b[0;32m~/code/Tavis-Cummings-simulations/.venv/lib/python3.10/site-packages/jaqalpaq/emulator/backend.py:106\u001b[0m, in \u001b[0;36mEmulatedIndependentSubcircuitsBackend.simulate_subcircuit\u001b[0;34m(self, job, subcircuit)\u001b[0m\n\u001b[1;32m    105\u001b[0m \u001b[39mdef\u001b[39;00m \u001b[39msimulate_subcircuit\u001b[39m(\u001b[39mself\u001b[39m, job, subcircuit):\n\u001b[0;32m--> 106\u001b[0m     \u001b[39mself\u001b[39;49m\u001b[39m.\u001b[39;49m_simulate_subcircuit(job, subcircuit)\n\u001b[1;32m    107\u001b[0m     subcircuit\u001b[39m.\u001b[39msimulated \u001b[39m=\u001b[39m \u001b[39mTrue\u001b[39;00m\n\u001b[1;32m    108\u001b[0m     subcircuit\u001b[39m.\u001b[39mtree\u001b[39m.\u001b[39msimulated_probability \u001b[39m=\u001b[39m \u001b[39m1\u001b[39m\n",
      "File \u001b[0;32m~/code/Tavis-Cummings-simulations/.venv/lib/python3.10/site-packages/jaqalpaq/emulator/unitary.py:155\u001b[0m, in \u001b[0;36mUnitarySerializedEmulator._simulate_subcircuit\u001b[0;34m(self, job, subcirc)\u001b[0m\n\u001b[1;32m    152\u001b[0m     \u001b[39melse\u001b[39;00m:\n\u001b[1;32m    153\u001b[0m         \u001b[39mraise\u001b[39;00m \u001b[39mNotImplementedError\u001b[39;00m()\n\u001b[0;32m--> 155\u001b[0m handle_unitary(cursor, vec, subcirc\u001b[39m.\u001b[39;49mtree)\n",
      "File \u001b[0;32m~/code/Tavis-Cummings-simulations/.venv/lib/python3.10/site-packages/jaqalpaq/emulator/unitary.py:134\u001b[0m, in \u001b[0;36mUnitarySerializedEmulator._simulate_subcircuit.<locals>.handle_unitary\u001b[0;34m(cursor, vec, node)\u001b[0m\n\u001b[1;32m    132\u001b[0m \u001b[39m# This capture the quantum arguments to the gate --- the qubit index\u001b[39;00m\n\u001b[1;32m    133\u001b[0m qind \u001b[39m=\u001b[39m []\n\u001b[0;32m--> 134\u001b[0m gatedef \u001b[39m=\u001b[39m gatedefs[gate\u001b[39m.\u001b[39;49mname]\n\u001b[1;32m    135\u001b[0m ideal_unitary \u001b[39m=\u001b[39m get_ideal_action(gatedef)\n\u001b[1;32m    136\u001b[0m \u001b[39mif\u001b[39;00m ideal_unitary \u001b[39mis\u001b[39;00m \u001b[39mNone\u001b[39;00m:\n",
      "\u001b[0;31mKeyError\u001b[0m: 'MS'"
     ]
    }
   ],
   "source": [
    "def CNOT\n",
    "\n",
    "@circuit\n",
    "def qmarina(Q: Q_obj):\n",
    "    Q.usepulses(\"qscout.v1.std\")\n",
    "    q = Q.register(2, name=\"q\")\n",
    "\n",
    "    with Q.subcircuit():\n",
    "        Q.MS(q[1])\n",
    "\n",
    "jaqal_circ = qmarina()\n",
    "result = run_jaqal_circuit(jaqal_circ)"
   ]
  },
  {
   "cell_type": "code",
   "execution_count": null,
   "metadata": {},
   "outputs": [],
   "source": []
  }
 ],
 "metadata": {
  "kernelspec": {
   "display_name": ".venv",
   "language": "python",
   "name": "python3"
  },
  "language_info": {
   "codemirror_mode": {
    "name": "ipython",
    "version": 3
   },
   "file_extension": ".py",
   "mimetype": "text/x-python",
   "name": "python",
   "nbconvert_exporter": "python",
   "pygments_lexer": "ipython3",
   "version": "3.10.6"
  }
 },
 "nbformat": 4,
 "nbformat_minor": 2
}
